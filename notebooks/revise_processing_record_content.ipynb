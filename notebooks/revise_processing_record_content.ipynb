{
 "cells": [
  {
   "cell_type": "code",
   "execution_count": null,
   "metadata": {},
   "outputs": [],
   "source": []
  },
  {
   "cell_type": "code",
   "execution_count": 26,
   "metadata": {},
   "outputs": [],
   "source": [
    "import json\n",
    "from pathlib import Path\n",
    "import shutil\n",
    "from copy import deepcopy\n",
    "\n",
    "# import os\n",
    "# from pathlib import Path\n",
    "# project_main_path = Path.cwd().parent\n",
    "# assert project_main_path.name == 'EC523_Project_G'\n",
    "# added_path = os.path.abspath(project_main_path.__str__())\n",
    "# if added_path not in os.sys.path:\n",
    "#     os.sys.path.append(added_path)  \n",
    "\n",
    "PROCESSING_RECORD = \"../DATASET/PROCESSING_RECORD.json\"\n",
    "# PROCESSING_RECORD = \"../DATASET/PROCESSING_RECORD_PHASE2_INPAINTING.json\"\n",
    "# PROCESSING_RECORD = \"../DATASET/PROCESSING_RECORD_PHASE3_SCENE_DESCRIPTION.json\"\n",
    "\n",
    "\n",
    "with open(PROCESSING_RECORD, \"r\") as f:\n",
    "    processing_record = json.load(f)\n"
   ]
  },
  {
   "cell_type": "code",
   "execution_count": 27,
   "metadata": {},
   "outputs": [],
   "source": [
    "import numpy as np\n",
    "from PIL import Image\n",
    "\n",
    "for series_name in processing_record[\"dataset_dict\"]:\n",
    "    series = processing_record[\"dataset_dict\"][series_name]\n",
    "    for episode_name in series:\n",
    "        episode = series[episode_name]\n",
    "        for frame in episode:\n",
    "            # print(frame)\n",
    "            scene_id = frame[\"scene_id\"]\n",
    "            scene_data = frame[\"scene_data\"]\n",
    "            # print(scene_data.keys())\n",
    "\n",
    "            image_path_segmt = scene_data[\"image_path_segmt\"]\n",
    "            image_path_cropped_figures_with_bbox_segmt = scene_data[\"image_path_cropped_figures_with_bbox_segmt\"]\n",
    "            image_path_instance_removed = scene_data[\"image_path_instance_removed\"]\n",
    "            image_path_inpainting = scene_data[\"image_path_inpainting\"]\n",
    "            subtitles_5_before = scene_data[\"subtitles_5_before\"]\n",
    "            subtitles_5_after = scene_data[\"subtitles_5_after\"]\n",
    "            image_scene_llava_description = scene_data[\"image_scene_llava_description\"]\n",
    "            video_time_in_seconds = scene_data[\"video_time_in_seconds\"]\n",
    "\n",
    "\n",
    "            for figure in image_path_cropped_figures_with_bbox_segmt:\n",
    "                # print(figure.keys())\n",
    "                # figure_bbox = figure[\"bbox\"]\n",
    "                # figure_instance_id = figure[\"instance_id\"]\n",
    "                # figure_color = figure[\"color\"]\n",
    "                # figure_img_path = figure[\"img_path\"]\n",
    "                figure_mask_path = figure[\"mask_path\"]\n",
    "                # print(figure_mask_path)\n",
    "                mask_file_dir = \"/\".join(figure_mask_path.split(\"/\")[:-1])\n",
    "                mask_file_name = figure_mask_path.split(\"/\")[-1]\n",
    "                mask_file_name_list = mask_file_name.split(\".\")[0].split(\"_\")\n",
    "                mask_file_type = mask_file_name.split(\".\")[-1]\n",
    "                # print(mask_file_name_list)\n",
    "                if mask_file_name_list[1] == \"mask\":\n",
    "                    mask_file_name = f\"{mask_file_name_list[0]}_{mask_file_name_list[-1]}_mask\"\n",
    "                    figure_mask_path = f\"{mask_file_dir}/{mask_file_name}.{mask_file_type}\"\n",
    "                    # print(figure_mask_path)\n",
    "                    # Image.open(Path(\"../\") / figure_mask_path).show()\n",
    "                    figure[\"mask_path\"] = figure_mask_path\n"
   ]
  },
  {
   "cell_type": "code",
   "execution_count": 28,
   "metadata": {},
   "outputs": [],
   "source": [
    "with open(PROCESSING_RECORD, \"w\") as f:\n",
    "    json.dump(processing_record, f, indent=4)"
   ]
  },
  {
   "cell_type": "code",
   "execution_count": null,
   "metadata": {},
   "outputs": [],
   "source": []
  }
 ],
 "metadata": {
  "kernelspec": {
   "display_name": "py311-openai-v1",
   "language": "python",
   "name": "python3"
  },
  "language_info": {
   "codemirror_mode": {
    "name": "ipython",
    "version": 3
   },
   "file_extension": ".py",
   "mimetype": "text/x-python",
   "name": "python",
   "nbconvert_exporter": "python",
   "pygments_lexer": "ipython3",
   "version": "3.11.5"
  }
 },
 "nbformat": 4,
 "nbformat_minor": 2
}
